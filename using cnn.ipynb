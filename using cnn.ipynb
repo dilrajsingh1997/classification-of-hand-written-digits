{
 "cells": [
  {
   "cell_type": "code",
   "execution_count": 12,
   "metadata": {},
   "outputs": [],
   "source": [
    "import numpy as np\n",
    "import pandas as pd\n",
    "import matplotlib.pyplot as plt\n",
    "import tensorflow as tf\n",
    "import math\n",
    "import copy\n",
    "import pickle as pickle\n",
    "from tqdm import tqdm_notebook as tqdm\n"
   ]
  },
  {
   "cell_type": "code",
   "execution_count": 2,
   "metadata": {},
   "outputs": [
    {
     "name": "stdout",
     "output_type": "stream",
     "text": [
      "(785, 60000)\n",
      "\n",
      "(785, 10000)\n"
     ]
    }
   ],
   "source": [
    "train = pd.read_csv('/home/dilraj/Desktop/mnist_train.csv', header=None)\n",
    "train = train.values\n",
    "train = train.T\n",
    "print(train.shape)\n",
    "print('')\n",
    "\n",
    "test = pd.read_csv('/home/dilraj/Desktop/mnist_test.csv', header=None)\n",
    "test = test.values\n",
    "test = test.T\n",
    "print(test.shape)\n"
   ]
  },
  {
   "cell_type": "code",
   "execution_count": 3,
   "metadata": {},
   "outputs": [
    {
     "name": "stdout",
     "output_type": "stream",
     "text": [
      "4\n",
      "(784,)\n",
      "(28, 28)\n"
     ]
    },
    {
     "data": {
      "image/png": "[encoded data removed]",
      "text/plain": [
       "<matplotlib.figure.Figure at 0x7f3ee5c327f0>"
      ]
     },
     "metadata": {},
     "output_type": "display_data"
    },
    {
     "name": "stdout",
     "output_type": "stream",
     "text": [
      "0\n",
      "(784,)\n",
      "(28, 28)\n"
     ]
    },
    {
     "data": {
      "image/png": "[encoded data removed]",
      "text/plain": [
       "<matplotlib.figure.Figure at 0x7f3ee57bab00>"
      ]
     },
     "metadata": {},
     "output_type": "display_data"
    }
   ],
   "source": [
    "#plot 3rd and 57th training example\n",
    "single = train[:, 2]\n",
    "print(single[0])\n",
    "single = single[1:]\n",
    "print(single.shape)\n",
    "single_image = single.reshape(28, 28)\n",
    "print(single_image.shape)\n",
    "plt.imshow(single_image, cmap='Greys')\n",
    "plt.show()\n",
    "\n",
    "single = train[:, 56]\n",
    "print(single[0])\n",
    "single = single[1:]\n",
    "print(single.shape)\n",
    "single_image = single.reshape(28, 28)\n",
    "print(single_image.shape)\n",
    "plt.imshow(single_image, cmap='Greys')\n",
    "plt.show()\n"
   ]
  },
  {
   "cell_type": "code",
   "execution_count": 4,
   "metadata": {},
   "outputs": [
    {
     "name": "stdout",
     "output_type": "stream",
     "text": [
      "[[ 5.  0.  4. ...,  5.  6.  8.]]\n",
      "[[ 0.  1.  0. ...,  0.  0.  0.]\n",
      " [ 0.  0.  0. ...,  0.  0.  0.]\n",
      " [ 0.  0.  0. ...,  0.  0.  0.]\n",
      " ..., \n",
      " [ 0.  0.  0. ...,  0.  0.  0.]\n",
      " [ 0.  0.  0. ...,  0.  0.  1.]\n",
      " [ 0.  0.  0. ...,  0.  0.  0.]]\n",
      "(10, 60000)\n",
      "\n",
      "[[ 0.  0.  0. ...,  0.  0.  0.]\n",
      " [ 0.  0.  0. ...,  0.  0.  0.]\n",
      " [ 0.  0.  0. ...,  0.  0.  0.]\n",
      " ..., \n",
      " [ 0.  0.  0. ...,  0.  0.  0.]\n",
      " [ 0.  0.  0. ...,  0.  0.  0.]\n",
      " [ 0.  0.  0. ...,  0.  0.  0.]]\n",
      "(784, 60000)\n",
      "\n",
      "[[7 2 1 ..., 4 5 6]]\n",
      "[[ 0.  0.  0. ...,  0.  0.  0.]\n",
      " [ 0.  0.  1. ...,  0.  0.  0.]\n",
      " [ 0.  1.  0. ...,  0.  0.  0.]\n",
      " ..., \n",
      " [ 1.  0.  0. ...,  0.  0.  0.]\n",
      " [ 0.  0.  0. ...,  0.  0.  0.]\n",
      " [ 0.  0.  0. ...,  0.  0.  0.]]\n",
      "(10, 10000)\n",
      "\n",
      "[[ 0.  0.  0. ...,  0.  0.  0.]\n",
      " [ 0.  0.  0. ...,  0.  0.  0.]\n",
      " [ 0.  0.  0. ...,  0.  0.  0.]\n",
      " ..., \n",
      " [ 0.  0.  0. ...,  0.  0.  0.]\n",
      " [ 0.  0.  0. ...,  0.  0.  0.]\n",
      " [ 0.  0.  0. ...,  0.  0.  0.]]\n",
      "(784, 10000)\n"
     ]
    }
   ],
   "source": [
    "#separate labels and data\n",
    "train_labels = train[0]\n",
    "train_labels = train_labels.astype(np.float32)\n",
    "m = train_labels.shape[0]\n",
    "print(train_labels.reshape(1, train_labels.shape[0]))\n",
    "temp = tf.constant(10, name='temp')\n",
    "train_labels_temp = tf.one_hot(train_labels, temp, axis=0)\n",
    "session = tf.Session()\n",
    "train_labels = session.run(train_labels_temp)\n",
    "session.close()\n",
    "print(train_labels)\n",
    "print(train_labels.shape)\n",
    "print('')\n",
    "train_data = train[1:, :]\n",
    "train_data = train_data.astype(np.float32)\n",
    "print(train_data)\n",
    "print(train_data.shape)\n",
    "print('')\n",
    "\n",
    "test_labels = test[0]\n",
    "train_labels = train_labels.astype(np.float32)\n",
    "print(test_labels.reshape(1, test_labels.shape[0]))\n",
    "temp = tf.constant(10, name='temp')\n",
    "test_labels_temp = tf.one_hot(test_labels, temp, axis=0)\n",
    "session = tf.Session()\n",
    "test_labels = session.run(test_labels_temp)\n",
    "session.close()\n",
    "print(test_labels)\n",
    "print(test_labels.shape)\n",
    "print('')\n",
    "test_data = test[1:, :]\n",
    "test_data = test_data.astype(np.float32)\n",
    "print(test_data)\n",
    "print(test_data.shape)\n"
   ]
  },
  {
   "cell_type": "code",
   "execution_count": 5,
   "metadata": {},
   "outputs": [],
   "source": [
    "train_data = train_data.T\n",
    "train_data = train_data.reshape(-1, 28, 28, 1)\n",
    "test_data = test_data.T\n",
    "test_data = test_data.reshape(-1, 28, 28, 1)\n",
    "train_labels = train_labels.T\n",
    "test_labels = test_labels.T\n"
   ]
  },
  {
   "cell_type": "code",
   "execution_count": 6,
   "metadata": {},
   "outputs": [],
   "source": [
    "def mini_batches(x, y, mini_batch_size=64):\n",
    "    \n",
    "    m = x.shape[0]                  # number of training examples\n",
    "    mini_batches = []\n",
    "    permutation = list(np.random.permutation(m))\n",
    "    shuffled_x = x[permutation, :, :, :]\n",
    "    shuffled_y = y[permutation, :]\n",
    "    complete_minibatches = math.floor(m/mini_batch_size)\n",
    "    \n",
    "    for k in range(0, complete_minibatches):\n",
    "        mini_batch_x = shuffled_x[k*mini_batch_size: k*mini_batch_size + mini_batch_size, :, :, :]\n",
    "        mini_batch_y = shuffled_y[k*mini_batch_size: k*mini_batch_size + mini_batch_size, :]\n",
    "        mini_batch = (mini_batch_x, mini_batch_y)\n",
    "        mini_batches.append(mini_batch)\n",
    "    \n",
    "    if m % mini_batch_size != 0:\n",
    "        mini_batch_x = shuffled_x[complete_minibatches * mini_batch_size: m, :, :, :]\n",
    "        mini_batch_y = shuffled_y[complete_minibatches * mini_batch_size: m, :]\n",
    "        mini_batch = (mini_batch_x, mini_batch_y)\n",
    "        mini_batches.append(mini_batch)\n",
    "    \n",
    "    return mini_batches"
   ]
  },
  {
   "cell_type": "code",
   "execution_count": 7,
   "metadata": {},
   "outputs": [],
   "source": [
    "x = tf.placeholder(dtype=tf.float32, shape=[None, 28, 28, 1])\n",
    "y = tf.placeholder(dtype=tf.float32, shape=[None, 10])\n",
    "w1 = tf.get_variable('w1', [4, 4, 1, 8], initializer=tf.contrib.layers.xavier_initializer())\n",
    "w2 = tf.get_variable('w2', [2, 2, 8, 16], initializer=tf.contrib.layers.xavier_initializer())"
   ]
  },
  {
   "cell_type": "code",
   "execution_count": 8,
   "metadata": {},
   "outputs": [],
   "source": [
    "with tf.device('/gpu:0'):\n",
    "    def forw(x):\n",
    "        z1 = tf.nn.conv2d(x, w1, strides=[1, 1, 1, 1], padding='SAME')\n",
    "        a1 = tf.nn.relu(z1)\n",
    "        p1 = tf.nn.max_pool(a1, ksize=[1, 2, 2, 1], strides=[1, 2, 2, 1], padding='SAME')\n",
    "        z2 = tf.nn.conv2d(p1, w2, strides=[1, 1, 1, 1], padding='SAME')\n",
    "        a2 = tf.nn.relu(z2)\n",
    "        p2 = tf.nn.max_pool(a2, ksize=[1, 2, 2, 1], strides=[1, 2, 2, 1], padding='SAME')\n",
    "        z3 = tf.contrib.layers.flatten(p2)\n",
    "        z4 = tf.contrib.layers.fully_connected(z3, 256, activation_fn=None)\n",
    "        z5 = tf.contrib.layers.fully_connected(z4, 10, activation_fn=None)\n",
    "    \n",
    "        return z5"
   ]
  },
  {
   "cell_type": "code",
   "execution_count": 9,
   "metadata": {},
   "outputs": [],
   "source": [
    "with tf.device('/gpu:0'):\n",
    "    def compute_cost(z, y):\n",
    "        cost = tf.reduce_mean(tf.nn.softmax_cross_entropy_with_logits(logits=(z), labels=(y)))\n",
    "        return cost"
   ]
  },
  {
   "cell_type": "code",
   "execution_count": 16,
   "metadata": {},
   "outputs": [],
   "source": [
    "with tf.device('/gpu:0'):\n",
    "    def model(x_train, y_train, x_test, y_test, alpha, iterations, minibatch_size):\n",
    "        \n",
    "        (m, n_H0, n_W0, n_C0) = x_train.shape             \n",
    "        n_y = y_train.shape[1]                            \n",
    "        costs = []\n",
    "        z = forw(x)\n",
    "        cost = compute_cost(z, y)\n",
    "        optimizer = tf.train.AdamOptimizer(learning_rate=alpha).minimize(cost)\n",
    "        init = tf.global_variables_initializer()\n",
    "        pbar = tqdm(total=iterations)\n",
    "        \n",
    "        with tf.Session() as sess:\n",
    "            sess.run(init)\n",
    "            for i in range(iterations):\n",
    "                minibatch_cost = 0.\n",
    "                num_minibatches = int(m / minibatch_size)\n",
    "                minibatches = mini_batches(x_train, y_train, minibatch_size)\n",
    "    \n",
    "                for minibatch in minibatches:\n",
    "                    (minibatch_x, minibatch_y) = minibatch\n",
    "                    _ , temp_cost = sess.run([optimizer, cost], feed_dict={x: minibatch_x, y: minibatch_y})\n",
    "                    minibatch_cost += temp_cost / num_minibatches\n",
    "                    \n",
    "                if i%10 == 0:\n",
    "                    print(\"iteration: %2d | cost: %8f\" % (i, minibatch_cost))\n",
    "                costs.append(minibatch_cost)\n",
    "                pbar.update(1)\n",
    "                \n",
    "            plt.plot(np.squeeze(costs))\n",
    "            plt.show()\n",
    "            \n",
    "            out = tf.nn.softmax(z)\n",
    "            pred = tf.argmax(out, axis=1)\n",
    "            preds = tf.equal(pred, tf.argmax(y, 1))\n",
    "            crp = tf.reduce_sum(tf.cast(preds, \"float\"))\n",
    "            correct_pred = 0\n",
    "            mini = mini_batches(x_train, y_train)\n",
    "            for minib in mini:\n",
    "                (mx, my) = minib\n",
    "                correct_pred += crp.eval({x: mx, y: my})\n",
    "            \n",
    "            print('Train accuracy: ' + str(float(100*correct_pred)/x_train.shape[0]))\n",
    "            correct_pred = 0\n",
    "            mini = mini_batches(x_test, y_test)\n",
    "            for minib in mini:\n",
    "                (mx, my) = minib\n",
    "                correct_pred += crp.eval({x: mx, y: my})\n",
    "            \n",
    "            print('Test accuracy: ' + str(float(100*correct_pred)/x_test.shape[0]))"
   ]
  },
  {
   "cell_type": "code",
   "execution_count": 17,
   "metadata": {},
   "outputs": [
    {
     "data": {
      "application/vnd.jupyter.widget-view+json": {
       "model_id": "04d19f82addb4ab0b77aa4698ae80082",
       "version_major": 2,
       "version_minor": 0
      },
      "text/html": [
       "<p>Failed to display Jupyter Widget of type <code>HBox</code>.</p>\n",
       "<p>\n",
       "  If you're reading this message in the Jupyter Notebook or JupyterLab Notebook, it may mean\n",
       "  that the widgets JavaScript is still loading. If this message persists, it\n",
       "  likely means that the widgets JavaScript library is either not installed or\n",
       "  not enabled. See the <a href=\"https://ipywidgets.readthedocs.io/en/stable/user_install.html\">Jupyter\n",
       "  Widgets Documentation</a> for setup instructions.\n",
       "</p>\n",
       "<p>\n",
       "  If you're reading this message in another frontend (for example, a static\n",
       "  rendering on GitHub or <a href=\"https://nbviewer.jupyter.org/\">NBViewer</a>),\n",
       "  it may mean that your frontend doesn't currently support widgets.\n",
       "</p>\n"
      ],
      "text/plain": [
       "HBox(children=(IntProgress(value=0, max=50), HTML(value='')))"
      ]
     },
     "metadata": {},
     "output_type": "display_data"
    },
    {
     "name": "stdout",
     "output_type": "stream",
     "text": [
      "iteration:  0 | cost: 1.475066\n",
      "iteration: 10 | cost: 0.054162\n",
      "iteration: 20 | cost: 0.037696\n",
      "iteration: 30 | cost: 0.031818\n",
      "iteration: 40 | cost: 0.032538\n"
     ]
    },
    {
     "data": {
      "image/png": "[encoded data removed]",
      "text/plain": [
       "<matplotlib.figure.Figure at 0x7f3e7459d160>"
      ]
     },
     "metadata": {},
     "output_type": "display_data"
    },
    {
     "name": "stdout",
     "output_type": "stream",
     "text": [
      "Train accuracy: 99.47166666666666\n",
      "Test accuracy: 98.43\n"
     ]
    }
   ],
   "source": [
    "model(x_train=train_data, y_train=train_labels, x_test=test_data, y_test=test_labels, alpha=0.001, iterations=50, minibatch_size=64)"
   ]
  },
  {
   "cell_type": "code",
   "execution_count": null,
   "metadata": {},
   "outputs": [],
   "source": []
  }
 ],
 "metadata": {
  "kernelspec": {
   "display_name": "Python 3",
   "language": "python",
   "name": "python3"
  },
  "language_info": {
   "codemirror_mode": {
    "name": "ipython",
    "version": 3
   },
   "file_extension": ".py",
   "mimetype": "text/x-python",
   "name": "python",
   "nbconvert_exporter": "python",
   "pygments_lexer": "ipython3",
   "version": "3.5.2"
  }
 },
 "nbformat": 4,
 "nbformat_minor": 2
}
