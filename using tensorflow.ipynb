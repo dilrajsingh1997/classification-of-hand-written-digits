{
 "cells": [
  {
   "cell_type": "code",
   "execution_count": 1,
   "metadata": {},
   "outputs": [],
   "source": [
    "import numpy as np\n",
    "import pandas as pd\n",
    "import matplotlib.pyplot as plt\n",
    "import tensorflow as tf\n",
    "import math\n",
    "import copy\n",
    "import pickle as pickle\n",
    "from tqdm import tqdm_notebook as tqdm\n"
   ]
  },
  {
   "cell_type": "code",
   "execution_count": 2,
   "metadata": {},
   "outputs": [
    {
     "name": "stdout",
     "output_type": "stream",
     "text": [
      "(785, 60000)\n",
      "\n",
      "(785, 10000)\n"
     ]
    }
   ],
   "source": [
    "train = pd.read_csv('/home/dilraj/Desktop/mnist_train.csv', header=None)\n",
    "train = train.values\n",
    "train = train.T\n",
    "print(train.shape)\n",
    "print('')\n",
    "\n",
    "test = pd.read_csv('/home/dilraj/Desktop/mnist_test.csv', header=None)\n",
    "test = test.values\n",
    "test = test.T\n",
    "print(test.shape)\n"
   ]
  },
  {
   "cell_type": "code",
   "execution_count": 3,
   "metadata": {},
   "outputs": [
    {
     "name": "stdout",
     "output_type": "stream",
     "text": [
      "4\n",
      "(784,)\n",
      "(28, 28)\n"
     ]
    },
    {
     "data": {
      "image/png": "[encoded data removed]",
      "text/plain": [
       "<matplotlib.figure.Figure at 0x7fc7750a5f60>"
      ]
     },
     "metadata": {},
     "output_type": "display_data"
    },
    {
     "name": "stdout",
     "output_type": "stream",
     "text": [
      "0\n",
      "(784,)\n",
      "(28, 28)\n"
     ]
    },
    {
     "data": {
      "image/png": "[encoded data removed]",
      "text/plain": [
       "<matplotlib.figure.Figure at 0x7fc7741bf5c0>"
      ]
     },
     "metadata": {},
     "output_type": "display_data"
    }
   ],
   "source": [
    "#plot 3rd and 57th training example\n",
    "single = train[:, 2]\n",
    "print(single[0])\n",
    "single = single[1:]\n",
    "print(single.shape)\n",
    "single_image = single.reshape(28, 28)\n",
    "print(single_image.shape)\n",
    "plt.imshow(single_image, cmap='Greys')\n",
    "plt.show()\n",
    "\n",
    "single = train[:, 56]\n",
    "print(single[0])\n",
    "single = single[1:]\n",
    "print(single.shape)\n",
    "single_image = single.reshape(28, 28)\n",
    "print(single_image.shape)\n",
    "plt.imshow(single_image, cmap='Greys')\n",
    "plt.show()\n"
   ]
  },
  {
   "cell_type": "code",
   "execution_count": 4,
   "metadata": {},
   "outputs": [
    {
     "name": "stdout",
     "output_type": "stream",
     "text": [
      "[[ 5.  0.  4. ...,  5.  6.  8.]]\n",
      "[[ 0.  1.  0. ...,  0.  0.  0.]\n",
      " [ 0.  0.  0. ...,  0.  0.  0.]\n",
      " [ 0.  0.  0. ...,  0.  0.  0.]\n",
      " ..., \n",
      " [ 0.  0.  0. ...,  0.  0.  0.]\n",
      " [ 0.  0.  0. ...,  0.  0.  1.]\n",
      " [ 0.  0.  0. ...,  0.  0.  0.]]\n",
      "(10, 60000)\n",
      "\n",
      "[[ 0.  0.  0. ...,  0.  0.  0.]\n",
      " [ 0.  0.  0. ...,  0.  0.  0.]\n",
      " [ 0.  0.  0. ...,  0.  0.  0.]\n",
      " ..., \n",
      " [ 0.  0.  0. ...,  0.  0.  0.]\n",
      " [ 0.  0.  0. ...,  0.  0.  0.]\n",
      " [ 0.  0.  0. ...,  0.  0.  0.]]\n",
      "(784, 60000)\n",
      "\n",
      "[[7 2 1 ..., 4 5 6]]\n",
      "[[ 0.  0.  0. ...,  0.  0.  0.]\n",
      " [ 0.  0.  1. ...,  0.  0.  0.]\n",
      " [ 0.  1.  0. ...,  0.  0.  0.]\n",
      " ..., \n",
      " [ 1.  0.  0. ...,  0.  0.  0.]\n",
      " [ 0.  0.  0. ...,  0.  0.  0.]\n",
      " [ 0.  0.  0. ...,  0.  0.  0.]]\n",
      "(10, 10000)\n",
      "\n",
      "[[ 0.  0.  0. ...,  0.  0.  0.]\n",
      " [ 0.  0.  0. ...,  0.  0.  0.]\n",
      " [ 0.  0.  0. ...,  0.  0.  0.]\n",
      " ..., \n",
      " [ 0.  0.  0. ...,  0.  0.  0.]\n",
      " [ 0.  0.  0. ...,  0.  0.  0.]\n",
      " [ 0.  0.  0. ...,  0.  0.  0.]]\n",
      "(784, 10000)\n"
     ]
    }
   ],
   "source": [
    "#separate labels and data\n",
    "train_labels = train[0]\n",
    "train_labels = train_labels.astype(np.float32)\n",
    "m = train_labels.shape[0]\n",
    "print(train_labels.reshape(1, train_labels.shape[0]))\n",
    "temp = tf.constant(10, name='temp')\n",
    "train_labels_temp = tf.one_hot(train_labels, temp, axis=0)\n",
    "session = tf.Session()\n",
    "train_labels = session.run(train_labels_temp)\n",
    "session.close()\n",
    "print(train_labels)\n",
    "print(train_labels.shape)\n",
    "print('')\n",
    "train_data = train[1:, :]\n",
    "train_data = train_data.astype(np.float32)\n",
    "print(train_data)\n",
    "print(train_data.shape)\n",
    "print('')\n",
    "\n",
    "test_labels = test[0]\n",
    "train_labels = train_labels.astype(np.float32)\n",
    "print(test_labels.reshape(1, test_labels.shape[0]))\n",
    "temp = tf.constant(10, name='temp')\n",
    "test_labels_temp = tf.one_hot(test_labels, temp, axis=0)\n",
    "session = tf.Session()\n",
    "test_labels = session.run(test_labels_temp)\n",
    "session.close()\n",
    "print(test_labels)\n",
    "print(test_labels.shape)\n",
    "print('')\n",
    "test_data = test[1:, :]\n",
    "test_data = test_data.astype(np.float32)\n",
    "print(test_data)\n",
    "print(test_data.shape)\n"
   ]
  },
  {
   "cell_type": "code",
   "execution_count": 5,
   "metadata": {},
   "outputs": [],
   "source": [
    "#define no of layers and no of neurons in each layer\n",
    "layer_dimensions = [784, 16, 16, 16, 10]\n",
    "\n",
    "#initialize parameters\n",
    "def initialize_parameters():\n",
    "    parameters = {}\n",
    "    for i in range(1, len(layer_dimensions)):\n",
    "        parameters['w' + str(i)] = tf.multiply(tf.Variable(tf.random_normal((layer_dimensions[i], layer_dimensions[i-1]))), 0.01)#*0.01#*math.sqrt(2/layer_dimensions[i-1])\n",
    "        parameters['b' + str(i)] = tf.Variable(tf.zeros((layer_dimensions[i], 1)))\n",
    "    return parameters\n"
   ]
  },
  {
   "cell_type": "code",
   "execution_count": 6,
   "metadata": {},
   "outputs": [],
   "source": [
    "#initialize placeholders for input and output\n",
    "x = tf.placeholder(tf.float32, [784, None])\n",
    "y = tf.placeholder(tf.float32, [10, None])\n",
    "iterations = 1500\n",
    "learning_rate = 0.01\n"
   ]
  },
  {
   "cell_type": "code",
   "execution_count": 7,
   "metadata": {},
   "outputs": [],
   "source": [
    "#define model\n",
    "parameters = initialize_parameters()\n",
    "with tf.device('/gpu:0'):\n",
    "    out = {}\n",
    "    out[str(1)] = tf.nn.relu(tf.add(tf.matmul(parameters['w1'], x), parameters['b1']))\n",
    "    for i in range(2, len(layer_dimensions)-1):\n",
    "        out[str(i)] = tf.nn.relu(tf.add(tf.matmul(parameters['w' + str(i)], out[str(i-1)]), parameters['b' + str(i)]))\n",
    "    out[str(len(layer_dimensions)-1)] = tf.add(tf.matmul(parameters['w' + str(len(layer_dimensions)-1)], out[str(len(layer_dimensions)-2)]), parameters['b' + str(len(layer_dimensions)-1)])\n",
    "    labels_out = out[str(len(layer_dimensions)-1)]\n",
    "    loss = tf.reduce_mean(tf.nn.softmax_cross_entropy_with_logits(logits=tf.transpose(labels_out), labels=tf.transpose(y)))\n",
    "    optimizer = tf.train.AdamOptimizer(learning_rate=learning_rate)\n",
    "    train_step = optimizer.minimize(loss)\n"
   ]
  },
  {
   "cell_type": "code",
   "execution_count": 8,
   "metadata": {
    "scrolled": false
   },
   "outputs": [
    {
     "data": {
      "application/vnd.jupyter.widget-view+json": {
       "model_id": "1c2f386d1e9c428d8a7214dcde0d141e",
       "version_major": 2,
       "version_minor": 0
      },
      "text/html": [
       "<p>Failed to display Jupyter Widget of type <code>HBox</code>.</p>\n",
       "<p>\n",
       "  If you're reading this message in the Jupyter Notebook or JupyterLab Notebook, it may mean\n",
       "  that the widgets JavaScript is still loading. If this message persists, it\n",
       "  likely means that the widgets JavaScript library is either not installed or\n",
       "  not enabled. See the <a href=\"https://ipywidgets.readthedocs.io/en/stable/user_install.html\">Jupyter\n",
       "  Widgets Documentation</a> for setup instructions.\n",
       "</p>\n",
       "<p>\n",
       "  If you're reading this message in another frontend (for example, a static\n",
       "  rendering on GitHub or <a href=\"https://nbviewer.jupyter.org/\">NBViewer</a>),\n",
       "  it may mean that your frontend doesn't currently support widgets.\n",
       "</p>\n"
      ],
      "text/plain": [
       "HBox(children=(IntProgress(value=0, max=1500), HTML(value='')))"
      ]
     },
     "metadata": {},
     "output_type": "display_data"
    },
    {
     "name": "stdout",
     "output_type": "stream",
     "text": [
      "iteration:    0 | cost:  2.302664041519165\n",
      "iteration:  100 | cost:  2.001591444015503\n",
      "iteration:  200 | cost:  1.522290349006653\n",
      "iteration:  300 | cost:  1.061438441276550\n",
      "iteration:  400 | cost:  0.711798250675201\n",
      "iteration:  500 | cost:  0.572832167148590\n",
      "iteration:  600 | cost:  0.488517254590988\n",
      "iteration:  700 | cost:  0.400084823369980\n",
      "iteration:  800 | cost:  0.321962773799896\n",
      "iteration:  900 | cost:  0.283067643642426\n",
      "iteration: 1000 | cost:  0.256952434778214\n",
      "iteration: 1100 | cost:  0.237421259284019\n",
      "iteration: 1200 | cost:  0.221632018685341\n",
      "iteration: 1300 | cost:  0.208213284611702\n",
      "iteration: 1400 | cost:  0.196260944008827\n",
      "\n"
     ]
    },
    {
     "data": {
      "image/png": "[encoded data removed]",
      "text/plain": [
       "<matplotlib.figure.Figure at 0x7fc6ae0c6dd8>"
      ]
     },
     "metadata": {},
     "output_type": "display_data"
    },
    {
     "data": {
      "image/png": "[encoded data removed]",
      "text/plain": [
       "<matplotlib.figure.Figure at 0x7fc7741af5c0>"
      ]
     },
     "metadata": {},
     "output_type": "display_data"
    },
    {
     "data": {
      "image/png": "[encoded data removed]",
      "text/plain": [
       "<matplotlib.figure.Figure at 0x7fc6adf287b8>"
      ]
     },
     "metadata": {},
     "output_type": "display_data"
    }
   ],
   "source": [
    "init = tf.global_variables_initializer()\n",
    "costs = []\n",
    "pbar = tqdm(total=iterations)\n",
    "accuracy_train = []\n",
    "accuracy_test = []\n",
    "device_info = tf.ConfigProto(log_device_placement=True)\n",
    "with tf.device('/gpu:0'):\n",
    "    with tf.Session(config=device_info) as sess:\n",
    "        sess.run(init)\n",
    "        for epoch in range(iterations):\n",
    "            _, cost = sess.run([train_step, loss], feed_dict={x: train_data, y: train_labels})\n",
    "            costs.append(cost)\n",
    "            labels_softmax = tf.nn.softmax(labels_out, dim=0)\n",
    "            correct_prediction = tf.equal(tf.argmax(labels_softmax, 0), tf.argmax(y, 0))\n",
    "            acc = tf.reduce_mean(tf.cast(correct_prediction, \"float\"))\n",
    "            temp = acc.eval({x: train_data, y: train_labels})\n",
    "            accuracy_train.append(temp)\n",
    "            temp = acc.eval({x: test_data, y: test_labels})\n",
    "            accuracy_test.append(temp)\n",
    "            if(epoch%100==0):\n",
    "                print(\"iteration: %4d | cost: %18.15f\" % (epoch, cost))\n",
    "            pbar.update(1)\n",
    "        pbar.close()\n",
    "        plt.plot(np.squeeze(costs))\n",
    "        plt.xlabel('Cost function')\n",
    "        plt.show()\n",
    "        plt.plot(np.squeeze(accuracy_train), color='r')\n",
    "        plt.xlabel('Accuracy_train = ' + str(accuracy_train[-1]))\n",
    "        plt.show()\n",
    "        plt.plot(np.squeeze(accuracy_test), color='r')\n",
    "        plt.xlabel('Accuracy_test = ' + str(accuracy_test[-1]))\n",
    "        plt.show()\n"
   ]
  },
  {
   "cell_type": "code",
   "execution_count": null,
   "metadata": {},
   "outputs": [],
   "source": []
  }
 ],
 "metadata": {
  "kernelspec": {
   "display_name": "Python 3",
   "language": "python",
   "name": "python3"
  },
  "language_info": {
   "codemirror_mode": {
    "name": "ipython",
    "version": 3
   },
   "file_extension": ".py",
   "mimetype": "text/x-python",
   "name": "python",
   "nbconvert_exporter": "python",
   "pygments_lexer": "ipython3",
   "version": "3.5.2"
  }
 },
 "nbformat": 4,
 "nbformat_minor": 2
}
