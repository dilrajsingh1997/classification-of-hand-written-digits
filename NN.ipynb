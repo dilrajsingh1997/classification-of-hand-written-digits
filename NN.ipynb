{
 "cells": [
  {
   "cell_type": "code",
   "execution_count": 1,
   "metadata": {},
   "outputs": [],
   "source": [
    "import numpy as np\n",
    "import pandas as pd\n",
    "import matplotlib.pyplot as plt\n",
    "import tensorflow as tf\n",
    "import math\n",
    "import copy\n",
    "import pickle as pickle\n",
    "from tqdm import tqdm_notebook as tqdm\n"
   ]
  },
  {
   "cell_type": "code",
   "execution_count": 2,
   "metadata": {},
   "outputs": [
    {
     "name": "stdout",
     "output_type": "stream",
     "text": [
      "(785, 60000)\n",
      "\n",
      "(785, 10000)\n"
     ]
    }
   ],
   "source": [
    "train = pd.read_csv('/home/dilraj/Desktop/mnist_train.csv', header=None)\n",
    "train = train.values\n",
    "train = train.T\n",
    "print(train.shape)\n",
    "print('')\n",
    "\n",
    "test = pd.read_csv('/home/dilraj/Desktop/mnist_test.csv', header=None)\n",
    "test = test.values\n",
    "test = test.T\n",
    "print(test.shape)\n"
   ]
  },
  {
   "cell_type": "code",
   "execution_count": 3,
   "metadata": {
    "scrolled": false
   },
   "outputs": [
    {
     "name": "stdout",
     "output_type": "stream",
     "text": [
      "4\n",
      "(784,)\n",
      "(28, 28)\n"
     ]
    },
    {
     "data": {
      "image/png": "[encoded data removed]",
      "text/plain": [
       "<matplotlib.figure.Figure at 0x7fc922a80ef0>"
      ]
     },
     "metadata": {},
     "output_type": "display_data"
    },
    {
     "name": "stdout",
     "output_type": "stream",
     "text": [
      "0\n",
      "(784,)\n",
      "(28, 28)\n"
     ]
    },
    {
     "data": {
      "image/png": "[encoded data removed]",
      "text/plain": [
       "<matplotlib.figure.Figure at 0x7fc921bfe8d0>"
      ]
     },
     "metadata": {},
     "output_type": "display_data"
    }
   ],
   "source": [
    "#plot 3rd and 57th training example\n",
    "single = train[:, 2]\n",
    "print(single[0])\n",
    "single = single[1:]\n",
    "print(single.shape)\n",
    "single_image = single.reshape(28, 28)\n",
    "print(single_image.shape)\n",
    "plt.imshow(single_image, cmap='Greys')\n",
    "plt.show()\n",
    "\n",
    "single = train[:, 56]\n",
    "print(single[0])\n",
    "single = single[1:]\n",
    "print(single.shape)\n",
    "single_image = single.reshape(28, 28)\n",
    "print(single_image.shape)\n",
    "plt.imshow(single_image, cmap='Greys')\n",
    "plt.show()\n"
   ]
  },
  {
   "cell_type": "code",
   "execution_count": 4,
   "metadata": {
    "scrolled": false
   },
   "outputs": [
    {
     "name": "stdout",
     "output_type": "stream",
     "text": [
      "[[5 0 4 ..., 5 6 8]]\n",
      "[[ 0.  1.  0. ...,  0.  0.  0.]\n",
      " [ 0.  0.  0. ...,  0.  0.  0.]\n",
      " [ 0.  0.  0. ...,  0.  0.  0.]\n",
      " ..., \n",
      " [ 0.  0.  0. ...,  0.  0.  0.]\n",
      " [ 0.  0.  0. ...,  0.  0.  1.]\n",
      " [ 0.  0.  0. ...,  0.  0.  0.]]\n",
      "(10, 60000)\n",
      "\n",
      "[[0 0 0 ..., 0 0 0]\n",
      " [0 0 0 ..., 0 0 0]\n",
      " [0 0 0 ..., 0 0 0]\n",
      " ..., \n",
      " [0 0 0 ..., 0 0 0]\n",
      " [0 0 0 ..., 0 0 0]\n",
      " [0 0 0 ..., 0 0 0]]\n",
      "(784, 60000)\n",
      "\n",
      "[[7 2 1 ..., 4 5 6]]\n",
      "[[ 0.  0.  0. ...,  0.  0.  0.]\n",
      " [ 0.  0.  1. ...,  0.  0.  0.]\n",
      " [ 0.  1.  0. ...,  0.  0.  0.]\n",
      " ..., \n",
      " [ 1.  0.  0. ...,  0.  0.  0.]\n",
      " [ 0.  0.  0. ...,  0.  0.  0.]\n",
      " [ 0.  0.  0. ...,  0.  0.  0.]]\n",
      "(10, 10000)\n",
      "\n",
      "[[0 0 0 ..., 0 0 0]\n",
      " [0 0 0 ..., 0 0 0]\n",
      " [0 0 0 ..., 0 0 0]\n",
      " ..., \n",
      " [0 0 0 ..., 0 0 0]\n",
      " [0 0 0 ..., 0 0 0]\n",
      " [0 0 0 ..., 0 0 0]]\n",
      "(784, 10000)\n"
     ]
    }
   ],
   "source": [
    "#separate labels and data\n",
    "train_labels = train[0]\n",
    "m = train_labels.shape[0]\n",
    "print(train_labels.reshape(1, train_labels.shape[0]))\n",
    "temp = tf.constant(10, name='temp')\n",
    "train_labels_temp = tf.one_hot(train_labels, temp, axis=0)\n",
    "session = tf.Session()\n",
    "train_labels = session.run(train_labels_temp)\n",
    "session.close()\n",
    "print(train_labels)\n",
    "print(train_labels.shape)\n",
    "print('')\n",
    "train_data = train[1:, :]\n",
    "print(train_data)\n",
    "print(train_data.shape)\n",
    "print('')\n",
    "\n",
    "test_labels = test[0]\n",
    "print(test_labels.reshape(1, test_labels.shape[0]))\n",
    "temp = tf.constant(10, name='temp')\n",
    "test_labels_temp = tf.one_hot(test_labels, temp, axis=0)\n",
    "session = tf.Session()\n",
    "test_labels = session.run(test_labels_temp)\n",
    "session.close()\n",
    "print(test_labels)\n",
    "print(test_labels.shape)\n",
    "print('')\n",
    "test_data = test[1:, :]\n",
    "print(test_data)\n",
    "print(test_data.shape)\n"
   ]
  },
  {
   "cell_type": "code",
   "execution_count": 5,
   "metadata": {
    "scrolled": false
   },
   "outputs": [],
   "source": [
    "#define no of layers and no of neurons in each layer\n",
    "layer_dimensions = [784, 16, 16, 16, 10]\n",
    "\n",
    "#initialize parameters\n",
    "def initialize_parameters():\n",
    "    parameters = {}\n",
    "    v = {}\n",
    "    for i in range(1, len(layer_dimensions)):\n",
    "        parameters['w' + str(i)] = np.multiply(np.random.randn(layer_dimensions[i], layer_dimensions[i-1]), 0.01)#math.sqrt(2/layer_dimensions[i-1]))\n",
    "        parameters['b' + str(i)] = np.zeros((layer_dimensions[i], 1))\n",
    "        v['dw' + str(i)] = np.zeros((layer_dimensions[i], layer_dimensions[i-1]))\n",
    "        v['db' + str(i)] = np.zeros((layer_dimensions[i], 1))\n",
    "    return parameters, v\n"
   ]
  },
  {
   "cell_type": "code",
   "execution_count": 6,
   "metadata": {},
   "outputs": [],
   "source": [
    "#forward propagation with given no of layers\n",
    "def forward_prop_single(train_data, parameters):\n",
    "    caches = []\n",
    "    l = len(parameters)/2\n",
    "    l = int(l)\n",
    "    a_new = train_data\n",
    "    for i in range(1, l):\n",
    "        a_prev = a_new\n",
    "        w = parameters['w' + str(i)]\n",
    "        b = parameters['b' + str(i)]\n",
    "        z = np.dot(w, a_prev) + b\n",
    "        #relu activation function\n",
    "        temp = z\n",
    "        temp[temp<0] = 0\n",
    "        a_new = temp\n",
    "        cache = [a_prev, w, b, z, a_new]\n",
    "        caches.append(cache)\n",
    "    a_prev = a_new\n",
    "    w = parameters['w' + str(l)]\n",
    "    b = parameters['b' + str(l)]\n",
    "    z = np.dot(w, a_prev) + b\n",
    "    #softmax activation function\n",
    "    ex = np.exp(z)\n",
    "    sm = np.sum(ex, axis=0, dtype=np.float32)\n",
    "    a_new = ex/sm\n",
    "    cache = (a_prev, w, b, z, a_new)\n",
    "    caches.append(cache)\n",
    "    return a_new, caches\n"
   ]
  },
  {
   "cell_type": "code",
   "execution_count": 7,
   "metadata": {},
   "outputs": [],
   "source": [
    "#compute_cost\n",
    "def compute_cost(a_last, train_labels):\n",
    "    m = train_labels.shape[1]\n",
    "    cost_matrix = np.multiply(train_labels, np.log(a_last))\n",
    "    cost = -float(np.sum(np.sum(cost_matrix, axis=0, keepdims=True), axis=1))/m\n",
    "    return cost\n"
   ]
  },
  {
   "cell_type": "code",
   "execution_count": 8,
   "metadata": {},
   "outputs": [],
   "source": [
    "#backward propagation with given no. of layers\n",
    "def backward_prop_single(a_last, train_labels, caches):\n",
    "    m = a_last.shape[1]\n",
    "    l = len(caches)\n",
    "    l = int(l)\n",
    "    current_cache = caches[l-1]\n",
    "    grads = {}\n",
    "    #derivative w.r.t. cost function\n",
    "    d_a_last = -np.divide(np.divide(train_labels, a_last), m)\n",
    "    a_prev, w, b, z, a_new = current_cache\n",
    "    #softmax derivative\n",
    "    d_z_last = a_last - train_labels\n",
    "    dw = np.divide(np.dot(d_z_last, a_prev.T), m)\n",
    "    db = np.divide(np.sum(d_z_last, axis=1, keepdims=True), m)\n",
    "    d_a_prev = np.dot(w.T, d_z_last)\n",
    "    grads['da' + str(l)] = d_a_prev\n",
    "    grads['dw' + str(l)] = dw\n",
    "    grads['db' + str(l)] = db\n",
    "    for i  in reversed(range(l-1)):\n",
    "        current_cache = caches[i]\n",
    "        d_a_current = grads['da' + str(i+2)]\n",
    "        a_prev, w, b, z, a_new = current_cache\n",
    "        #relu derivative\n",
    "        temp = copy.deepcopy(a_new)\n",
    "        temp[temp>0] = 1\n",
    "        d_z_current = d_a_current*temp\n",
    "        dw = np.divide(np.dot(d_z_current, a_prev.T), m)\n",
    "        db = np.divide(np.sum(d_z_current, axis=1, keepdims=True), m)\n",
    "        d_a_prev = np.dot(w.T, d_z_current)\n",
    "        grads['da' + str(i+1)] = d_a_prev\n",
    "        grads['dw' + str(i+1)] = dw\n",
    "        grads['db' + str(i+1)] = db\n",
    "\n",
    "    return grads\n",
    "    "
   ]
  },
  {
   "cell_type": "code",
   "execution_count": 9,
   "metadata": {},
   "outputs": [],
   "source": [
    "#update parameters using momentum\n",
    "def update_parameters(parameters, v, grads, alpha, beta):\n",
    "    l = len(parameters)/2\n",
    "    l = int(l)\n",
    "    for i in range(1, l+1):\n",
    "        w = parameters['w' + str(i)]\n",
    "        b = parameters['b' + str(i)]\n",
    "        dw = grads['dw' + str(i)]\n",
    "        db = grads['db' + str(i)]\n",
    "        v['dw' + str(i)] = beta*v['dw' + str(i)] + (1-beta)*dw\n",
    "        v['db' + str(i)] = beta*v['db' + str(i)] + (1-beta)*db\n",
    "        w = w - alpha*v['dw' + str(i)]\n",
    "        b = b - alpha*v['db' + str(i)]\n",
    "        parameters['w' + str(i)] = w\n",
    "        parameters['b' + str(i)] = b\n",
    "    \n",
    "    return parameters\n"
   ]
  },
  {
   "cell_type": "code",
   "execution_count": 10,
   "metadata": {},
   "outputs": [],
   "source": [
    "#get accuracy\n",
    "def get_acc(last, labels):\n",
    "    a_last = copy.deepcopy(last)\n",
    "    a_last = (a_last == a_last.max(axis=0)[None, :]).astype(int)\n",
    "    count = 0\n",
    "    for i in range(a_last.shape[1]):\n",
    "        for j in range(a_last.shape[0]):\n",
    "            if(labels[j, i]==1):\n",
    "                if(a_last[j, i]==1):\n",
    "                    count = count + 1\n",
    "    \n",
    "    return (float(count)*100/a_last.shape[1])\n"
   ]
  },
  {
   "cell_type": "code",
   "execution_count": 11,
   "metadata": {},
   "outputs": [],
   "source": [
    "#get accuracy with errors\n",
    "def get_accuracy(data, labels, parameters):\n",
    "    a_last, _ = forward_prop_single(data, parameters)\n",
    "    a_last = (a_last == a_last.max(axis=0)[None, :]).astype(int)\n",
    "    count = 0\n",
    "    errors = []\n",
    "    for i in range(a_last.shape[1]):\n",
    "        for j in range(a_last.shape[0]):\n",
    "            if(labels[j, i]==1):\n",
    "                if(a_last[j, i]==1):\n",
    "                    count = count + 1\n",
    "                else:\n",
    "                    error = data[:, i]\n",
    "                    error_label = a_last[:, i]\n",
    "                    errors.append((error, np.where(labels[:, i] == 1)[0][0], np.where(a_last[:, i] == 1)[0][0]))\n",
    "    \n",
    "    return (float(count)*100/a_last.shape[1]), errors\n"
   ]
  },
  {
   "cell_type": "code",
   "execution_count": 12,
   "metadata": {},
   "outputs": [],
   "source": [
    "#investigate errors\n",
    "def get_error(errors):\n",
    "    t = len(errors)\n",
    "    for i in range(5):\n",
    "        error, correct_label, error_label = errors[i]\n",
    "        error = error.reshape(28, 28)\n",
    "        cur_axes = plt.gca()\n",
    "        cur_axes.axes.get_xaxis().set_ticks([])\n",
    "        cur_axes.axes.get_yaxis().set_ticks([])\n",
    "        plt.imshow(error, cmap='Greys')\n",
    "        plt.xlabel('Predicted ' + str(error_label) + ', Actual ' + str(correct_label))\n",
    "        plt.show()\n"
   ]
  },
  {
   "cell_type": "code",
   "execution_count": 14,
   "metadata": {},
   "outputs": [],
   "source": [
    "#main function\n",
    "def main(train_data, train_labels, iterations, alpha, beta):\n",
    "    costs = []\n",
    "    train_acc = []\n",
    "    reduction = 0\n",
    "    parameters, v = initialize_parameters()\n",
    "    pbar = tqdm(total=iterations)\n",
    "    for i in range(iterations+1):\n",
    "        a_last, caches = forward_prop_single(train_data, parameters)\n",
    "        cost = compute_cost(a_last, train_labels)\n",
    "        grads = backward_prop_single(a_last, train_labels, caches)\n",
    "        parameters = update_parameters(parameters, v, grads, alpha, beta)\n",
    "        if(i!=0 and i%100==0):\n",
    "            alpha = alpha - 1/i\n",
    "            alpha = round(alpha, 3)\n",
    "        if(i%100==0):\n",
    "            print(\"iteration: %4d | cost: %18.15f | learning rate: %7.3f\" % (i, cost, alpha))\n",
    "        costs.append(cost)\n",
    "        acc = get_acc(a_last, train_labels)\n",
    "        train_acc.append(acc)\n",
    "        if cost < 0.16:\n",
    "            break\n",
    "        pbar.update(1)\n",
    "    pbar.close()\n",
    "    x = np.arange(1, len(costs) + 1, 1)\n",
    "    plt.plot(x, costs, 'b')\n",
    "    plt.xlabel('Cost function')\n",
    "    plt.show()\n",
    "    plt.plot(x, train_acc, 'r')\n",
    "    plt.xlabel('Accuracy')\n",
    "    plt.show()\n",
    "    return parameters, costs\n",
    "    "
   ]
  },
  {
   "cell_type": "code",
   "execution_count": 15,
   "metadata": {
    "scrolled": false
   },
   "outputs": [
    {
     "data": {
      "application/vnd.jupyter.widget-view+json": {
       "model_id": "5f7d76f058424731beeec8fbb2883c8f",
       "version_major": 2,
       "version_minor": 0
      },
      "text/html": [
       "<p>Failed to display Jupyter Widget of type <code>HBox</code>.</p>\n",
       "<p>\n",
       "  If you're reading this message in the Jupyter Notebook or JupyterLab Notebook, it may mean\n",
       "  that the widgets JavaScript is still loading. If this message persists, it\n",
       "  likely means that the widgets JavaScript library is either not installed or\n",
       "  not enabled. See the <a href=\"https://ipywidgets.readthedocs.io/en/stable/user_install.html\">Jupyter\n",
       "  Widgets Documentation</a> for setup instructions.\n",
       "</p>\n",
       "<p>\n",
       "  If you're reading this message in another frontend (for example, a static\n",
       "  rendering on GitHub or <a href=\"https://nbviewer.jupyter.org/\">NBViewer</a>),\n",
       "  it may mean that your frontend doesn't currently support widgets.\n",
       "</p>\n"
      ],
      "text/plain": [
       "HBox(children=(IntProgress(value=0, max=1500), HTML(value='')))"
      ]
     },
     "metadata": {},
     "output_type": "display_data"
    },
    {
     "name": "stdout",
     "output_type": "stream",
     "text": [
      "iteration:    0 | cost:  2.302626969318806 | learning rate:   0.100\n",
      "iteration:  100 | cost:  2.207040108740019 | learning rate:   0.090\n",
      "iteration:  200 | cost:  1.348340896222920 | learning rate:   0.085\n",
      "iteration:  300 | cost:  1.115347209818490 | learning rate:   0.082\n",
      "iteration:  400 | cost:  0.381645467653044 | learning rate:   0.080\n",
      "iteration:  500 | cost:  0.281043161180345 | learning rate:   0.078\n",
      "iteration:  600 | cost:  0.239523743903682 | learning rate:   0.076\n",
      "iteration:  700 | cost:  0.219087271759865 | learning rate:   0.075\n",
      "iteration:  800 | cost:  0.205569313219640 | learning rate:   0.074\n",
      "iteration:  900 | cost:  0.195750882734208 | learning rate:   0.073\n",
      "iteration: 1000 | cost:  0.187694661739316 | learning rate:   0.072\n",
      "iteration: 1100 | cost:  0.180482201778492 | learning rate:   0.071\n",
      "iteration: 1200 | cost:  0.174608231844527 | learning rate:   0.070\n",
      "iteration: 1300 | cost:  0.169796425265996 | learning rate:   0.069\n",
      "iteration: 1400 | cost:  0.165720979202892 | learning rate:   0.068\n",
      "iteration: 1500 | cost:  0.162078054262927 | learning rate:   0.067\n",
      "\n"
     ]
    },
    {
     "data": {
      "image/png": "[encoded data removed]",
      "text/plain": [
       "<matplotlib.figure.Figure at 0x7fc921d68e80>"
      ]
     },
     "metadata": {},
     "output_type": "display_data"
    },
    {
     "data": {
      "image/png": "[encoded data removed]",
      "text/plain": [
       "<matplotlib.figure.Figure at 0x7fc922980b00>"
      ]
     },
     "metadata": {},
     "output_type": "display_data"
    }
   ],
   "source": [
    "parameters, costs = main(train_data=train_data, train_labels=train_labels, iterations=1500, alpha=0.1, beta=0.9)\n",
    "parameters_temp = parameters\n"
   ]
  },
  {
   "cell_type": "code",
   "execution_count": 19,
   "metadata": {},
   "outputs": [
    {
     "name": "stdout",
     "output_type": "stream",
     "text": [
      "95.28833333333333\n",
      "93.94\n"
     ]
    }
   ],
   "source": [
    "accuracy_train, errors_train = get_accuracy(train_data, train_labels, parameters)\n",
    "print(accuracy_train)\n",
    "accuracy_test, errors_test = get_accuracy(test_data, test_labels, parameters)\n",
    "print(accuracy_test)\n"
   ]
  },
  {
   "cell_type": "code",
   "execution_count": null,
   "metadata": {},
   "outputs": [],
   "source": [
    "get_error(errors_test)"
   ]
  },
  {
   "cell_type": "code",
   "execution_count": 18,
   "metadata": {},
   "outputs": [],
   "source": [
    "pickle.dump(parameters, open('trained_weights_mnist.p', 'wb'))"
   ]
  },
  {
   "cell_type": "code",
   "execution_count": null,
   "metadata": {},
   "outputs": [],
   "source": []
  }
 ],
 "metadata": {
  "kernelspec": {
   "display_name": "Python 3",
   "language": "python",
   "name": "python3"
  },
  "language_info": {
   "codemirror_mode": {
    "name": "ipython",
    "version": 3
   },
   "file_extension": ".py",
   "mimetype": "text/x-python",
   "name": "python",
   "nbconvert_exporter": "python",
   "pygments_lexer": "ipython3",
   "version": "3.5.2"
  }
 },
 "nbformat": 4,
 "nbformat_minor": 2
}
